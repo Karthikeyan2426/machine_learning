{
  "nbformat": 4,
  "nbformat_minor": 0,
  "metadata": {
    "colab": {
      "name": "Car Price Prediction LR.ipynb",
      "provenance": [],
      "collapsed_sections": []
    },
    "kernelspec": {
      "name": "python3",
      "display_name": "Python 3"
    },
    "language_info": {
      "name": "python"
    }
  },
  "cells": [
    {
      "cell_type": "code",
      "source": [
        "!git clone https://github.com/deepanrajm/machine_learning.git"
      ],
      "metadata": {
        "id": "tGdAZMxgatP4"
      },
      "execution_count": null,
      "outputs": []
    },
    {
      "cell_type": "code",
      "execution_count": 2,
      "metadata": {
        "id": "l-DE8z4tVcZn"
      },
      "outputs": [],
      "source": [
        "import numpy as np\n",
        "import pandas as pd\n",
        "import matplotlib.pyplot as plt\n",
        "import seaborn as sns\n",
        "from sklearn import linear_model\n",
        "from sklearn.linear_model import LinearRegression\n",
        "\n",
        "# reading the dataset\n",
        "cars = pd.read_csv(\"machine_learning/Regression/CarPrice_Assignment.csv\")"
      ]
    },
    {
      "cell_type": "code",
      "source": [
        "# summary of the dataset: 205 rows, 26 columns, no null values\n",
        "print(cars.info())"
      ],
      "metadata": {
        "id": "8F-tAyZOb2Iw"
      },
      "execution_count": null,
      "outputs": []
    },
    {
      "cell_type": "code",
      "source": [
        "cars.head()"
      ],
      "metadata": {
        "id": "ryshKpa2b6_y"
      },
      "execution_count": null,
      "outputs": []
    },
    {
      "cell_type": "code",
      "source": [
        "# symboling: -2 (least risky) to +3 most risky\n",
        "# Most cars are 0,1,2\n",
        "cars['symboling'].astype('category').value_counts()"
      ],
      "metadata": {
        "id": "gL6e47WUcD3y"
      },
      "execution_count": null,
      "outputs": []
    },
    {
      "cell_type": "code",
      "source": [
        "# aspiration: An (internal combustion) engine property showing \n",
        "# whether the oxygen intake is through standard (atmospheric pressure)\n",
        "# or through turbocharging (pressurised oxygen intake)\n",
        "\n",
        "cars['aspiration'].astype('category').value_counts()"
      ],
      "metadata": {
        "id": "amriHmgncIm6"
      },
      "execution_count": null,
      "outputs": []
    },
    {
      "cell_type": "code",
      "source": [
        "# drivewheel: frontwheel, rarewheel or four-wheel drive \n",
        "cars['drivewheel'].astype('category').value_counts()"
      ],
      "metadata": {
        "id": "0FPf8BLZcLrj"
      },
      "execution_count": null,
      "outputs": []
    },
    {
      "cell_type": "code",
      "source": [
        "# wheelbase: distance between centre of front and rarewheels\n",
        "sns.distplot(cars['wheelbase'])\n",
        "plt.show()"
      ],
      "metadata": {
        "id": "wUycRVV2cMKT"
      },
      "execution_count": null,
      "outputs": []
    },
    {
      "cell_type": "code",
      "source": [
        "# curbweight: weight of car without occupants or baggage\n",
        "sns.distplot(cars['curbweight'])\n",
        "plt.show()"
      ],
      "metadata": {
        "id": "zHRxLssScPuS"
      },
      "execution_count": null,
      "outputs": []
    },
    {
      "cell_type": "code",
      "source": [
        "# stroke: volume of the engine (the distance traveled by the \n",
        "# piston in each cycle)\n",
        "sns.distplot(cars['stroke'])\n",
        "plt.show()"
      ],
      "metadata": {
        "id": "K2La1izdcRsX"
      },
      "execution_count": null,
      "outputs": []
    },
    {
      "cell_type": "code",
      "source": [
        "# compression ration: ration of volume of compression chamber \n",
        "# at largest capacity to least capacity\n",
        "sns.distplot(cars['compressionratio'])\n",
        "plt.show()"
      ],
      "metadata": {
        "id": "B5652gNacTvk"
      },
      "execution_count": null,
      "outputs": []
    },
    {
      "cell_type": "code",
      "source": [
        "# target variable: price of car\n",
        "sns.distplot(cars['price'])\n",
        "plt.show()"
      ],
      "metadata": {
        "id": "Cg_vhvchcVnE"
      },
      "execution_count": null,
      "outputs": []
    },
    {
      "cell_type": "code",
      "source": [
        "cars_numeric = cars.select_dtypes(include=['float64', 'int'])\n",
        "cars_numeric.head()"
      ],
      "metadata": {
        "id": "xNPqM04Xcd8X"
      },
      "execution_count": null,
      "outputs": []
    },
    {
      "cell_type": "code",
      "source": [
        "# dropping symboling and car_ID \n",
        "cars_numeric = cars_numeric.drop(['symboling', 'car_ID'], axis=1)\n",
        "cars_numeric.head()"
      ],
      "metadata": {
        "id": "L3QJ-mj_cmW4"
      },
      "execution_count": null,
      "outputs": []
    },
    {
      "cell_type": "code",
      "source": [
        "# correlation matrix\n",
        "cor = cars_numeric.corr()\n",
        "cor"
      ],
      "metadata": {
        "id": "-uZA2I7jcpFZ"
      },
      "execution_count": null,
      "outputs": []
    },
    {
      "cell_type": "code",
      "source": [
        "# plotting correlations on a heatmap\n",
        "\n",
        "# figure size\n",
        "plt.figure(figsize=(16,8))\n",
        "\n",
        "# heatmap\n",
        "sns.heatmap(cor, cmap=\"YlGnBu\", annot=True)\n",
        "plt.show()"
      ],
      "metadata": {
        "id": "vRTUWliidKOi"
      },
      "execution_count": null,
      "outputs": []
    },
    {
      "cell_type": "code",
      "source": [
        "# variable formats\n",
        "cars.info()"
      ],
      "metadata": {
        "id": "M8ssWGHYdt8D"
      },
      "execution_count": null,
      "outputs": []
    },
    {
      "cell_type": "code",
      "source": [
        "# converting symboling to categorical\n",
        "cars['symboling'] = cars['symboling'].astype('object')\n",
        "cars.info()"
      ],
      "metadata": {
        "id": "FF_T8_9-dxjY"
      },
      "execution_count": null,
      "outputs": []
    },
    {
      "cell_type": "code",
      "source": [
        "# CarName: first few entries\n",
        "cars['CarName'][:30]"
      ],
      "metadata": {
        "id": "5QZf8zMNd0Y0"
      },
      "execution_count": null,
      "outputs": []
    },
    {
      "cell_type": "code",
      "source": [
        "carnames = cars['CarName'].apply(lambda x: x.split(\" \")[0])\n",
        "carnames[:30]"
      ],
      "metadata": {
        "id": "sswuBPdCd3WZ"
      },
      "execution_count": null,
      "outputs": []
    },
    {
      "cell_type": "code",
      "source": [
        "# New column car_company\n",
        "cars['car_company'] = cars['CarName'].apply(lambda x: x.split(\" \")[0])"
      ],
      "metadata": {
        "id": "NfxO53AmeGOr"
      },
      "execution_count": 22,
      "outputs": []
    },
    {
      "cell_type": "code",
      "source": [
        "# look at all values \n",
        "cars['car_company'].astype('category').value_counts()"
      ],
      "metadata": {
        "id": "lu7DZds0eKuN"
      },
      "execution_count": null,
      "outputs": []
    },
    {
      "cell_type": "code",
      "source": [
        "# replacing misspelled car_company names\n",
        "\n",
        "# volkswagen\n",
        "cars.loc[(cars['car_company'] == \"vw\") | \n",
        "         (cars['car_company'] == \"vokswagen\")\n",
        "         , 'car_company'] = 'volkswagen'\n",
        "\n",
        "# porsche\n",
        "cars.loc[cars['car_company'] == \"porcshce\", 'car_company'] = 'porsche'\n",
        "\n",
        "# toyota\n",
        "cars.loc[cars['car_company'] == \"toyouta\", 'car_company'] = 'toyota'\n",
        "\n",
        "# nissan\n",
        "cars.loc[cars['car_company'] == \"Nissan\", 'car_company'] = 'nissan'\n",
        "\n",
        "# mazda\n",
        "cars.loc[cars['car_company'] == \"maxda\", 'car_company'] = 'mazda'"
      ],
      "metadata": {
        "id": "scEN9k_5ePOS"
      },
      "execution_count": 24,
      "outputs": []
    },
    {
      "cell_type": "code",
      "source": [
        "cars['car_company'].astype('category').value_counts()"
      ],
      "metadata": {
        "id": "YPco7tCheh7U"
      },
      "execution_count": null,
      "outputs": []
    },
    {
      "cell_type": "code",
      "source": [
        "# drop carname variable\n",
        "cars = cars.drop('CarName', axis=1)"
      ],
      "metadata": {
        "id": "fZM71CIeekl7"
      },
      "execution_count": 26,
      "outputs": []
    },
    {
      "cell_type": "code",
      "source": [
        "cars.info()"
      ],
      "metadata": {
        "id": "4ckGEpceenQv"
      },
      "execution_count": null,
      "outputs": []
    },
    {
      "cell_type": "code",
      "source": [
        "# split into X and y\n",
        "X = cars.loc[:, ['symboling', 'fueltype', 'aspiration', 'doornumber',\n",
        "       'carbody', 'drivewheel', 'enginelocation', 'wheelbase', 'carlength',\n",
        "       'carwidth', 'carheight', 'curbweight', 'enginetype', 'cylindernumber',\n",
        "       'enginesize', 'fuelsystem', 'boreratio', 'stroke', 'compressionratio',\n",
        "       'horsepower', 'peakrpm', 'citympg', 'highwaympg',\n",
        "       'car_company']]\n",
        "\n",
        "y = cars['price']"
      ],
      "metadata": {
        "id": "X1Oa4_W9en0v"
      },
      "execution_count": 29,
      "outputs": []
    },
    {
      "cell_type": "code",
      "source": [
        "# creating dummy variables for categorical variables\n",
        "\n",
        "# subset all categorical variables\n",
        "cars_categorical = X.select_dtypes(include=['object'])\n",
        "cars_categorical.head()"
      ],
      "metadata": {
        "colab": {
          "base_uri": "https://localhost:8080/",
          "height": 206
        },
        "id": "kXurHfAxeyQc",
        "outputId": "848f9f8c-1786-480b-c2d5-b9fbc62cd3b8"
      },
      "execution_count": 30,
      "outputs": [
        {
          "output_type": "execute_result",
          "data": {
            "text/plain": [
              "  symboling fueltype aspiration doornumber      carbody drivewheel  \\\n",
              "0         3      gas        std        two  convertible        rwd   \n",
              "1         3      gas        std        two  convertible        rwd   \n",
              "2         1      gas        std        two    hatchback        rwd   \n",
              "3         2      gas        std       four        sedan        fwd   \n",
              "4         2      gas        std       four        sedan        4wd   \n",
              "\n",
              "  enginelocation enginetype cylindernumber fuelsystem  car_company  \n",
              "0          front       dohc           four       mpfi  alfa-romero  \n",
              "1          front       dohc           four       mpfi  alfa-romero  \n",
              "2          front       ohcv            six       mpfi  alfa-romero  \n",
              "3          front        ohc           four       mpfi         audi  \n",
              "4          front        ohc           five       mpfi         audi  "
            ],
            "text/html": [
              "\n",
              "  <div id=\"df-10de826f-01a0-4a41-8dc7-5bfec0973b1d\">\n",
              "    <div class=\"colab-df-container\">\n",
              "      <div>\n",
              "<style scoped>\n",
              "    .dataframe tbody tr th:only-of-type {\n",
              "        vertical-align: middle;\n",
              "    }\n",
              "\n",
              "    .dataframe tbody tr th {\n",
              "        vertical-align: top;\n",
              "    }\n",
              "\n",
              "    .dataframe thead th {\n",
              "        text-align: right;\n",
              "    }\n",
              "</style>\n",
              "<table border=\"1\" class=\"dataframe\">\n",
              "  <thead>\n",
              "    <tr style=\"text-align: right;\">\n",
              "      <th></th>\n",
              "      <th>symboling</th>\n",
              "      <th>fueltype</th>\n",
              "      <th>aspiration</th>\n",
              "      <th>doornumber</th>\n",
              "      <th>carbody</th>\n",
              "      <th>drivewheel</th>\n",
              "      <th>enginelocation</th>\n",
              "      <th>enginetype</th>\n",
              "      <th>cylindernumber</th>\n",
              "      <th>fuelsystem</th>\n",
              "      <th>car_company</th>\n",
              "    </tr>\n",
              "  </thead>\n",
              "  <tbody>\n",
              "    <tr>\n",
              "      <th>0</th>\n",
              "      <td>3</td>\n",
              "      <td>gas</td>\n",
              "      <td>std</td>\n",
              "      <td>two</td>\n",
              "      <td>convertible</td>\n",
              "      <td>rwd</td>\n",
              "      <td>front</td>\n",
              "      <td>dohc</td>\n",
              "      <td>four</td>\n",
              "      <td>mpfi</td>\n",
              "      <td>alfa-romero</td>\n",
              "    </tr>\n",
              "    <tr>\n",
              "      <th>1</th>\n",
              "      <td>3</td>\n",
              "      <td>gas</td>\n",
              "      <td>std</td>\n",
              "      <td>two</td>\n",
              "      <td>convertible</td>\n",
              "      <td>rwd</td>\n",
              "      <td>front</td>\n",
              "      <td>dohc</td>\n",
              "      <td>four</td>\n",
              "      <td>mpfi</td>\n",
              "      <td>alfa-romero</td>\n",
              "    </tr>\n",
              "    <tr>\n",
              "      <th>2</th>\n",
              "      <td>1</td>\n",
              "      <td>gas</td>\n",
              "      <td>std</td>\n",
              "      <td>two</td>\n",
              "      <td>hatchback</td>\n",
              "      <td>rwd</td>\n",
              "      <td>front</td>\n",
              "      <td>ohcv</td>\n",
              "      <td>six</td>\n",
              "      <td>mpfi</td>\n",
              "      <td>alfa-romero</td>\n",
              "    </tr>\n",
              "    <tr>\n",
              "      <th>3</th>\n",
              "      <td>2</td>\n",
              "      <td>gas</td>\n",
              "      <td>std</td>\n",
              "      <td>four</td>\n",
              "      <td>sedan</td>\n",
              "      <td>fwd</td>\n",
              "      <td>front</td>\n",
              "      <td>ohc</td>\n",
              "      <td>four</td>\n",
              "      <td>mpfi</td>\n",
              "      <td>audi</td>\n",
              "    </tr>\n",
              "    <tr>\n",
              "      <th>4</th>\n",
              "      <td>2</td>\n",
              "      <td>gas</td>\n",
              "      <td>std</td>\n",
              "      <td>four</td>\n",
              "      <td>sedan</td>\n",
              "      <td>4wd</td>\n",
              "      <td>front</td>\n",
              "      <td>ohc</td>\n",
              "      <td>five</td>\n",
              "      <td>mpfi</td>\n",
              "      <td>audi</td>\n",
              "    </tr>\n",
              "  </tbody>\n",
              "</table>\n",
              "</div>\n",
              "      <button class=\"colab-df-convert\" onclick=\"convertToInteractive('df-10de826f-01a0-4a41-8dc7-5bfec0973b1d')\"\n",
              "              title=\"Convert this dataframe to an interactive table.\"\n",
              "              style=\"display:none;\">\n",
              "        \n",
              "  <svg xmlns=\"http://www.w3.org/2000/svg\" height=\"24px\"viewBox=\"0 0 24 24\"\n",
              "       width=\"24px\">\n",
              "    <path d=\"M0 0h24v24H0V0z\" fill=\"none\"/>\n",
              "    <path d=\"M18.56 5.44l.94 2.06.94-2.06 2.06-.94-2.06-.94-.94-2.06-.94 2.06-2.06.94zm-11 1L8.5 8.5l.94-2.06 2.06-.94-2.06-.94L8.5 2.5l-.94 2.06-2.06.94zm10 10l.94 2.06.94-2.06 2.06-.94-2.06-.94-.94-2.06-.94 2.06-2.06.94z\"/><path d=\"M17.41 7.96l-1.37-1.37c-.4-.4-.92-.59-1.43-.59-.52 0-1.04.2-1.43.59L10.3 9.45l-7.72 7.72c-.78.78-.78 2.05 0 2.83L4 21.41c.39.39.9.59 1.41.59.51 0 1.02-.2 1.41-.59l7.78-7.78 2.81-2.81c.8-.78.8-2.07 0-2.86zM5.41 20L4 18.59l7.72-7.72 1.47 1.35L5.41 20z\"/>\n",
              "  </svg>\n",
              "      </button>\n",
              "      \n",
              "  <style>\n",
              "    .colab-df-container {\n",
              "      display:flex;\n",
              "      flex-wrap:wrap;\n",
              "      gap: 12px;\n",
              "    }\n",
              "\n",
              "    .colab-df-convert {\n",
              "      background-color: #E8F0FE;\n",
              "      border: none;\n",
              "      border-radius: 50%;\n",
              "      cursor: pointer;\n",
              "      display: none;\n",
              "      fill: #1967D2;\n",
              "      height: 32px;\n",
              "      padding: 0 0 0 0;\n",
              "      width: 32px;\n",
              "    }\n",
              "\n",
              "    .colab-df-convert:hover {\n",
              "      background-color: #E2EBFA;\n",
              "      box-shadow: 0px 1px 2px rgba(60, 64, 67, 0.3), 0px 1px 3px 1px rgba(60, 64, 67, 0.15);\n",
              "      fill: #174EA6;\n",
              "    }\n",
              "\n",
              "    [theme=dark] .colab-df-convert {\n",
              "      background-color: #3B4455;\n",
              "      fill: #D2E3FC;\n",
              "    }\n",
              "\n",
              "    [theme=dark] .colab-df-convert:hover {\n",
              "      background-color: #434B5C;\n",
              "      box-shadow: 0px 1px 3px 1px rgba(0, 0, 0, 0.15);\n",
              "      filter: drop-shadow(0px 1px 2px rgba(0, 0, 0, 0.3));\n",
              "      fill: #FFFFFF;\n",
              "    }\n",
              "  </style>\n",
              "\n",
              "      <script>\n",
              "        const buttonEl =\n",
              "          document.querySelector('#df-10de826f-01a0-4a41-8dc7-5bfec0973b1d button.colab-df-convert');\n",
              "        buttonEl.style.display =\n",
              "          google.colab.kernel.accessAllowed ? 'block' : 'none';\n",
              "\n",
              "        async function convertToInteractive(key) {\n",
              "          const element = document.querySelector('#df-10de826f-01a0-4a41-8dc7-5bfec0973b1d');\n",
              "          const dataTable =\n",
              "            await google.colab.kernel.invokeFunction('convertToInteractive',\n",
              "                                                     [key], {});\n",
              "          if (!dataTable) return;\n",
              "\n",
              "          const docLinkHtml = 'Like what you see? Visit the ' +\n",
              "            '<a target=\"_blank\" href=https://colab.research.google.com/notebooks/data_table.ipynb>data table notebook</a>'\n",
              "            + ' to learn more about interactive tables.';\n",
              "          element.innerHTML = '';\n",
              "          dataTable['output_type'] = 'display_data';\n",
              "          await google.colab.output.renderOutput(dataTable, element);\n",
              "          const docLink = document.createElement('div');\n",
              "          docLink.innerHTML = docLinkHtml;\n",
              "          element.appendChild(docLink);\n",
              "        }\n",
              "      </script>\n",
              "    </div>\n",
              "  </div>\n",
              "  "
            ]
          },
          "metadata": {},
          "execution_count": 30
        }
      ]
    },
    {
      "cell_type": "code",
      "source": [
        "# convert into dummies\n",
        "cars_dummies = pd.get_dummies(cars_categorical, drop_first=True)\n",
        "cars_dummies.head()"
      ],
      "metadata": {
        "id": "5cgax4Qee1yJ"
      },
      "execution_count": null,
      "outputs": []
    },
    {
      "cell_type": "code",
      "source": [
        "# drop categorical variables \n",
        "X = X.drop(list(cars_categorical.columns), axis=1)"
      ],
      "metadata": {
        "id": "Ehz1C6FJe7va"
      },
      "execution_count": 32,
      "outputs": []
    },
    {
      "cell_type": "code",
      "source": [
        "# concat dummy variables with X\n",
        "X = pd.concat([X, cars_dummies], axis=1)"
      ],
      "metadata": {
        "id": "SGyk1sCBe-eN"
      },
      "execution_count": 33,
      "outputs": []
    },
    {
      "cell_type": "code",
      "source": [
        "# scaling the features\n",
        "from sklearn.preprocessing import scale\n",
        "\n",
        "# storing column names in cols, since column names are (annoyingly) lost after \n",
        "# scaling (the df is converted to a numpy array)\n",
        "cols = X.columns\n",
        "X = pd.DataFrame(scale(X))\n",
        "X.columns = cols\n",
        "X.columns"
      ],
      "metadata": {
        "id": "7ZlFJC9YfClv"
      },
      "execution_count": null,
      "outputs": []
    },
    {
      "cell_type": "code",
      "source": [
        "# split into train and test\n",
        "from sklearn.model_selection import train_test_split\n",
        "X_train, X_test, y_train, y_test = train_test_split(X, y, \n",
        "                                                    train_size=0.7,\n",
        "                                                    test_size = 0.3, random_state=100)"
      ],
      "metadata": {
        "id": "sFRL8iR_fIT_"
      },
      "execution_count": 36,
      "outputs": []
    },
    {
      "cell_type": "code",
      "source": [
        "# Building the first model with all the features\n",
        "\n",
        "# instantiate\n",
        "lm = LinearRegression()\n",
        "\n",
        "# fit\n",
        "lm.fit(X_train, y_train)"
      ],
      "metadata": {
        "id": "TBjz5wzzfRKt"
      },
      "execution_count": null,
      "outputs": []
    },
    {
      "cell_type": "code",
      "source": [
        "LinearRegression(copy_X=True, fit_intercept=True, n_jobs=1, normalize=False)"
      ],
      "metadata": {
        "id": "_sEPIQKLfV8m"
      },
      "execution_count": null,
      "outputs": []
    },
    {
      "cell_type": "code",
      "source": [
        "# predict \n",
        "y_pred = lm.predict(X_test)\n",
        "\n",
        "# metrics\n",
        "from sklearn.metrics import r2_score\n",
        "\n",
        "print(r2_score(y_true=y_test, y_pred=y_pred))"
      ],
      "metadata": {
        "id": "UDQnZHDOfeO0"
      },
      "execution_count": null,
      "outputs": []
    }
  ]
}